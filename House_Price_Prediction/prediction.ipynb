{
 "cells": [
  {
   "cell_type": "markdown",
   "id": "349937bf",
   "metadata": {},
   "source": [
    "# House Price Prediction with MLFLOW"
   ]
  },
  {
   "cell_type": "code",
   "execution_count": null,
   "id": "f2a8aa58",
   "metadata": {},
   "outputs": [],
   "source": [
    "import mlflow\n",
    "import pandas as pd\n",
    "import mlflow.sklearn\n",
    "from mlflow.models import infer_signature\n",
    "from sklearn.linear_model import LinearRegression\n",
    "from sklearn.ensemble import RandomForestRegressor\n",
    "from sklearn.model_selection import train_test_split,GridSearchCV\n",
    "from sklearn.metrics import mean_squared_error\n",
    "from sklearn.datasets import fetch_california_housing"
   ]
  },
  {
   "cell_type": "code",
   "execution_count": null,
   "id": "a6fc1fdf",
   "metadata": {},
   "outputs": [],
   "source": [
    "housing = fetch_california_housing()\n",
    "print(housing)"
   ]
  },
  {
   "cell_type": "code",
   "execution_count": null,
   "id": "b6b7231d",
   "metadata": {},
   "outputs": [],
   "source": [
    "df = pd.DataFrame(housing.data,columns=housing.feature_names)\n",
    "df[\"Price\"] = housing.target"
   ]
  },
  {
   "cell_type": "code",
   "execution_count": null,
   "id": "2c8aa8a8",
   "metadata": {},
   "outputs": [],
   "source": [
    "df"
   ]
  },
  {
   "cell_type": "code",
   "execution_count": null,
   "id": "a7f38b26",
   "metadata": {},
   "outputs": [],
   "source": [
    "X = df.drop(columns=[\"Price\"])\n",
    "y = df[\"Price\"]\n",
    "X_train,X_test,y_train,y_test = train_test_split(X,y,test_size=0.25,random_state=42)"
   ]
  },
  {
   "cell_type": "code",
   "execution_count": null,
   "id": "c3c7d4c8",
   "metadata": {},
   "outputs": [],
   "source": [
    "from urllib.parse import urlparse\n"
   ]
  },
  {
   "cell_type": "code",
   "execution_count": null,
   "id": "be88fe31",
   "metadata": {},
   "outputs": [],
   "source": [
    "signature = infer_signature(X_train,y_train)\n",
    "signature"
   ]
  },
  {
   "cell_type": "code",
   "execution_count": null,
   "id": "e270eaa4",
   "metadata": {},
   "outputs": [],
   "source": [
    "## Hyperparameter Tuning\n",
    "def hyperparameter_tuning(model,X_train,y_train,param_grid):\n",
    "    model =  model\n",
    "    grid_search = GridSearchCV(estimator=model,param_grid=param_grid,cv=3,verbose=2,scoring=\"neg_mean_squared_error\")\n",
    "    grid_search.fit(X_train,y_train)\n",
    "    return grid_search"
   ]
  },
  {
   "cell_type": "code",
   "execution_count": null,
   "id": "7b07e7bd",
   "metadata": {},
   "outputs": [],
   "source": [
    "rf_param_grid = {\n",
    "    \"n_estimators\": [100, 200],\n",
    "    \"max_depth\": [None, 10, 20],\n",
    "    \"min_samples_split\": [2, 5],\n",
    "    \"min_samples_leaf\": [1, 2],\n",
    "    \"max_features\": [\"auto\", \"sqrt\", \"log2\"],\n",
    "    \"bootstrap\": [True, False],\n",
    "    \"random_state\": [42]\n",
    "}\n",
    "\n",
    "lr_param_grid = {\n",
    "    \"fit_intercept\": [True, False],\n",
    "    \"copy_X\": [True, False],\n",
    "    \"n_jobs\": [None, -1],\n",
    "    \"positive\": [False, True]\n",
    "}\n",
    "rf = RandomForestRegressor()\n",
    "lr = LinearRegression()"
   ]
  },
  {
   "cell_type": "code",
   "execution_count": null,
   "id": "f54c13a7",
   "metadata": {},
   "outputs": [],
   "source": [
    "###  Loop through models and log each run\n",
    "import mlflow.sklearn\n",
    "\n",
    "# Tracking uri\n",
    "mlflow.set_tracking_uri(uri=\"http://127.0.0.1:5000\")\n",
    "# It extracts the URI scheme to determine if the MLflow tracking store is local (file) or remote (e.g., http), so the code knows whether model registration is supported.\n",
    "tracking_uri_type_store=urlparse(mlflow.get_tracking_uri()).scheme\n",
    "for model, param_grid in [(rf, rf_param_grid), (lr, lr_param_grid)]:\n",
    "    with mlflow.start_run():\n",
    "        grid_search = hyperparameter_tuning(model, X_train, y_train, param_grid)\n",
    "        best_model = grid_search.best_estimator_\n",
    "        y_pred = best_model.predict(X_test)\n",
    "        mse = mean_squared_error(y_test, y_pred)\n",
    "\n",
    "        #  Log all best parameters\n",
    "        mlflow.log_params(grid_search.best_params_)\n",
    "        \n",
    "        #  Add tags for clarity\n",
    "        mlflow.set_tag(\"model\", model.__class__.__name__)\n",
    "\n",
    "        # Log metric\n",
    "        mlflow.log_metric(\"mse\", mse)\n",
    "        \n",
    "        #  Log model itself\n",
    "        mlflow.sklearn.log_model(best_model, artifact_path=\"model\")\n",
    "\n",
    "        \n",
    "        \n",
    "        if tracking_uri_type_store != \"file\":\n",
    "            mlflow.sklearn.log_model(best_model,\"model\",registered_model_name=f\"Best_{model.__class__.__name__}_model\")\n",
    "        else:\n",
    "            mlflow.sklearn.log_model(best_model,\"model\",signature=signature)\n",
    "        print(f\"Best Hyperparameters: {grid_search.best_params_}\")\n",
    "        print(f\"Mean Squared Error: {mse}\")"
   ]
  },
  {
   "cell_type": "code",
   "execution_count": null,
   "id": "b5c7a09e",
   "metadata": {},
   "outputs": [],
   "source": [
    "print(\"RF Best params:\", grid_search.best_params_)\n",
    "print(\"RF MSE:\", mse)\n"
   ]
  },
  {
   "cell_type": "code",
   "execution_count": null,
   "id": "fc47eeb5",
   "metadata": {},
   "outputs": [],
   "source": []
  }
 ],
 "metadata": {
  "kernelspec": {
   "display_name": "Python 3",
   "language": "python",
   "name": "python3"
  },
  "language_info": {
   "codemirror_mode": {
    "name": "ipython",
    "version": 3
   },
   "file_extension": ".py",
   "mimetype": "text/x-python",
   "name": "python",
   "nbconvert_exporter": "python",
   "pygments_lexer": "ipython3",
   "version": "3.10.16"
  }
 },
 "nbformat": 4,
 "nbformat_minor": 5
}
